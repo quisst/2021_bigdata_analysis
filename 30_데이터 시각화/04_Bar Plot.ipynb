{
 "cells": [
  {
   "cell_type": "markdown",
   "id": "75072b44-c9a9-4859-8285-dfb7a50336a0",
   "metadata": {},
   "source": [
    "# 4. Bar Plot\n",
    "* 막대그래프로 여러개의 값을 비교할 때 유용함\n",
    "* 데이터\n",
    "    * 수치형 데이터/양적 데이터(numerical data) : 키, 몸무게, IQ, 시력\n",
    "    * 범주형 데이터(categorical data) : 성별, MBTI, 혈액형, 국적, 지역\n",
    "* x축에는 범주형 데이터, y축에는 수치형 데이터"
   ]
  },
  {
   "cell_type": "code",
   "execution_count": 1,
   "id": "4989936e-8758-40a1-933e-9fe80701e046",
   "metadata": {},
   "outputs": [],
   "source": [
    "import numpy as np\n",
    "import pandas as pd\n",
    "import matplotlib.pyplot as plt"
   ]
  },
  {
   "cell_type": "code",
   "execution_count": 4,
   "id": "9105c053-8e76-4c0f-86a5-dcad23eae34b",
   "metadata": {},
   "outputs": [
    {
     "data": {
      "image/png": "[encoded data removed]",
      "text/plain": [
       "<Figure size 432x288 with 1 Axes>"
      ]
     },
     "metadata": {
      "needs_background": "light"
     },
     "output_type": "display_data"
    }
   ],
   "source": [
    "# 년도별 출생자수 비교\n",
    "years = ['2018', '2019', '2020']\n",
    "number = [100, 90, 80]\n",
    "\n",
    "# bar(x, height)\n",
    "plt.bar(years, number, width = 0.5)\n",
    "plt.title('년도별 출생자수', size=20)\n",
    "plt.xlabel('년도')\n",
    "plt.ylabel('출생자수')\n",
    "plt.show()"
   ]
  },
  {
   "cell_type": "code",
   "execution_count": 5,
   "id": "0c73280e-af0c-4cf6-a54d-84c57afa837a",
   "metadata": {},
   "outputs": [
    {
     "data": {
      "image/png": "[encoded data removed]",
      "text/plain": [
       "<Figure size 432x288 with 1 Axes>"
      ]
     },
     "metadata": {
      "needs_background": "light"
     },
     "output_type": "display_data"
    }
   ],
   "source": [
    "# 수평 막대그래프\n",
    "# barh(y, width)\n",
    "plt.barh(years, number, height=0.5)\n",
    "plt.show()"
   ]
  },
  {
   "cell_type": "code",
   "execution_count": 6,
   "id": "0a6b4384-dd83-4554-932f-3757da351b7d",
   "metadata": {},
   "outputs": [
    {
     "data": {
      "image/png": "[encoded data removed]",
      "text/plain": [
       "<Figure size 432x288 with 1 Axes>"
      ]
     },
     "metadata": {
      "needs_background": "light"
     },
     "output_type": "display_data"
    }
   ],
   "source": [
    "# 년도, 성별로 출생자수 비교하기\n",
    "male = [100, 90, 80]\n",
    "female = [90, 80, 70]\n",
    "x = np.arange(3)  # 0~2\n",
    "\n",
    "# bar(x, height)\n",
    "plt.bar(x, male, width=0.6)\n",
    "plt.bar(x, female, width=0.6)\n",
    "plt.show()"
   ]
  },
  {
   "cell_type": "code",
   "execution_count": 14,
   "id": "6e48c4bf-77e2-498f-a95c-30479869e56a",
   "metadata": {},
   "outputs": [
    {
     "data": {
      "image/png": "[encoded data removed]",
      "text/plain": [
       "<Figure size 432x288 with 1 Axes>"
      ]
     },
     "metadata": {
      "needs_background": "light"
     },
     "output_type": "display_data"
    }
   ],
   "source": [
    "bar_width = 0.3\n",
    "\n",
    "# bar(x, height)\n",
    "plt.bar(x - bar_width / 2, male, width=0.3)\n",
    "plt.bar(x + bar_width / 2, female, width=0.3)\n",
    "\n",
    "plt.xticks(x, years)\n",
    "plt.legend(['male', 'female'])\n",
    "plt.show()"
   ]
  },
  {
   "cell_type": "code",
   "execution_count": null,
   "id": "5b69e4b4-3b0d-4ed9-be72-77dab81daa62",
   "metadata": {},
   "outputs": [],
   "source": []
  }
 ],
 "metadata": {
  "kernelspec": {
   "display_name": "Python 3",
   "language": "python",
   "name": "python3"
  },
  "language_info": {
   "codemirror_mode": {
    "name": "ipython",
    "version": 3
   },
   "file_extension": ".py",
   "mimetype": "text/x-python",
   "name": "python",
   "nbconvert_exporter": "python",
   "pygments_lexer": "ipython3",
   "version": "3.8.8"
  }
 },
 "nbformat": 4,
 "nbformat_minor": 5
}
