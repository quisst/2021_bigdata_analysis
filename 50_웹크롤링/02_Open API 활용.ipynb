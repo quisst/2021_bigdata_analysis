{
 "cells": [
  {
   "cell_type": "markdown",
   "id": "b83e8d28-5906-4cb8-b4f9-21b83af75a25",
   "metadata": {},
   "source": [
    "# 2. Open API 활용\n",
    "\n",
    "### 공공데이터포털 사이트 이용\n",
    "1. 공공데이터포털 사이트 회원가입/로그인\n",
    "2. 데이터 검색\n",
    "3. API 사용 요청, 키 발급\n",
    "4. API 매뉴얼 확인\n",
    "5. API 연동 개발 및 테스트"
   ]
  },
  {
   "cell_type": "code",
   "execution_count": 1,
   "id": "e2e102af-92da-4d21-b6a2-9ac66fdeb9d9",
   "metadata": {},
   "outputs": [],
   "source": [
    "import requests\n",
    "import pandas as pd\n",
    "import xmltodict\n",
    "import json"
   ]
  },
  {
   "cell_type": "markdown",
   "id": "cfb4bc38-3e16-4066-becc-57390f1cddc6",
   "metadata": {},
   "source": [
    "### 보건복지부-코로나19 감염현황 조회 서비스 (XML)"
   ]
  },
  {
   "cell_type": "code",
   "execution_count": 2,
   "id": "276c2fa8-df4b-4e4e-9243-088189e2736d",
   "metadata": {},
   "outputs": [
    {
     "data": {
      "text/plain": [
       "'http://openapi.data.go.kr/openapi/service/rest/Covid19/getCovid19InfStateJson?serviceKey=kOziccmdb8NkvACScIS0%2BTPmFFyPeQ1UwPNaOgJAVjtBMY3ewnl6TnLnoPCpNm0ZxNDZ%2FuIeWsf%2BPycQV8ie9A%3D%3D&pageNo=1&numOfRows=10&startCreateDt=20200310&endCreateDt=20200830'"
      ]
     },
     "execution_count": 2,
     "metadata": {},
     "output_type": "execute_result"
    }
   ],
   "source": [
    "serviceKey = 'kOziccmdb8NkvACScIS0%2BTPmFFyPeQ1UwPNaOgJAVjtBMY3ewnl6TnLnoPCpNm0ZxNDZ%2FuIeWsf%2BPycQV8ie9A%3D%3D'\n",
    "\n",
    "url = 'http://openapi.data.go.kr/openapi/service/rest/Covid19/getCovid19InfStateJson?serviceKey={}&pageNo=1&numOfRows=10&startCreateDt=20200310&endCreateDt=20200830'.format(serviceKey)\n",
    "url"
   ]
  },
  {
   "cell_type": "code",
   "execution_count": 3,
   "id": "27ff1a92-444b-4cac-a71f-4bd3f707cbb5",
   "metadata": {},
   "outputs": [
    {
     "data": {
      "text/plain": [
       "<Response [200]>"
      ]
     },
     "execution_count": 3,
     "metadata": {},
     "output_type": "execute_result"
    }
   ],
   "source": [
    "res = requests.get(url)\n",
    "res"
   ]
  },
  {
   "cell_type": "code",
   "execution_count": null,
   "id": "a60f3734-30b4-41fb-9f98-9ec8c626340a",
   "metadata": {},
   "outputs": [],
   "source": [
    "res.text"
   ]
  },
  {
   "cell_type": "code",
   "execution_count": null,
   "id": "bf265743-7b78-493b-8b68-f1ce539dff26",
   "metadata": {},
   "outputs": [],
   "source": [
    "temp = xmltodict.parse(res.text)\n",
    "temp"
   ]
  },
  {
   "cell_type": "code",
   "execution_count": null,
   "id": "ff028b75-aeda-4c50-b55e-e92ac43df1df",
   "metadata": {},
   "outputs": [],
   "source": [
    "result = json.loads(json.dumps(temp) ) # OrderDict -> dict(type:str) -> dict\n",
    "result"
   ]
  },
  {
   "cell_type": "code",
   "execution_count": null,
   "id": "7aa4b56e-72ac-4a75-be03-ee7ab0e8a98c",
   "metadata": {},
   "outputs": [],
   "source": [
    "items = result['response']['body']['items']['item']\n",
    "\n",
    "for item in items:\n",
    "    print(item)"
   ]
  },
  {
   "cell_type": "code",
   "execution_count": null,
   "id": "225b3009-43e8-47e6-80cf-58389a7e77d3",
   "metadata": {},
   "outputs": [],
   "source": [
    "# 일자(STATE_DT), 확진자수(DECIDE_CNT), 사망자수(DEATH_CNT), 치료중환자수(CARE_CNT)\n",
    "state_dt = []\n",
    "decide_cnt = []\n",
    "death_cnt = []\n",
    "care_cnt = []\n",
    "\n",
    "for item in items:\n",
    "    state_dt.append(item['stateDt'])\n",
    "    decide_cnt.append(item['decideCnt'])\n",
    "    death_cnt.append(item['deathCnt'])\n",
    "    care_cnt.append(item['careCnt'])\n",
    "    \n",
    "state_dt"
   ]
  },
  {
   "cell_type": "code",
   "execution_count": null,
   "id": "91c36bd0-f62d-43b0-b9cb-6a9abeeb7e27",
   "metadata": {},
   "outputs": [],
   "source": [
    "# dataframe 생성\n",
    "df_data = {\n",
    "    '기준일': state_dt,\n",
    "    '확진자수': decide_cnt,\n",
    "    '사망자수': death_cnt,\n",
    "    '치료중환자수': care_cnt\n",
    "}\n",
    "df_data"
   ]
  },
  {
   "cell_type": "code",
   "execution_count": 10,
   "id": "e1388ad3-5968-4c84-b285-714c58061d09",
   "metadata": {},
   "outputs": [
    {
     "data": {
      "text/html": [
       "<div>\n",
       "<style scoped>\n",
       "    .dataframe tbody tr th:only-of-type {\n",
       "        vertical-align: middle;\n",
       "    }\n",
       "\n",
       "    .dataframe tbody tr th {\n",
       "        vertical-align: top;\n",
       "    }\n",
       "\n",
       "    .dataframe thead th {\n",
       "        text-align: right;\n",
       "    }\n",
       "</style>\n",
       "<table border=\"1\" class=\"dataframe\">\n",
       "  <thead>\n",
       "    <tr style=\"text-align: right;\">\n",
       "      <th></th>\n",
       "      <th>기준일</th>\n",
       "      <th>확진자수</th>\n",
       "      <th>사망자수</th>\n",
       "      <th>치료중환자수</th>\n",
       "    </tr>\n",
       "  </thead>\n",
       "  <tbody>\n",
       "    <tr>\n",
       "      <th>0</th>\n",
       "      <td>20200830</td>\n",
       "      <td>19698</td>\n",
       "      <td>323</td>\n",
       "      <td>4313</td>\n",
       "    </tr>\n",
       "    <tr>\n",
       "      <th>1</th>\n",
       "      <td>20200829</td>\n",
       "      <td>19399</td>\n",
       "      <td>321</td>\n",
       "      <td>4209</td>\n",
       "    </tr>\n",
       "    <tr>\n",
       "      <th>2</th>\n",
       "      <td>20200828</td>\n",
       "      <td>19076</td>\n",
       "      <td>316</td>\n",
       "      <td>3931</td>\n",
       "    </tr>\n",
       "    <tr>\n",
       "      <th>3</th>\n",
       "      <td>20200827</td>\n",
       "      <td>18705</td>\n",
       "      <td>313</td>\n",
       "      <td>3584</td>\n",
       "    </tr>\n",
       "    <tr>\n",
       "      <th>4</th>\n",
       "      <td>20200826</td>\n",
       "      <td>18264</td>\n",
       "      <td>312</td>\n",
       "      <td>3348</td>\n",
       "    </tr>\n",
       "    <tr>\n",
       "      <th>...</th>\n",
       "      <td>...</td>\n",
       "      <td>...</td>\n",
       "      <td>...</td>\n",
       "      <td>...</td>\n",
       "    </tr>\n",
       "    <tr>\n",
       "      <th>169</th>\n",
       "      <td>20200314</td>\n",
       "      <td>8086</td>\n",
       "      <td>72</td>\n",
       "      <td>7402</td>\n",
       "    </tr>\n",
       "    <tr>\n",
       "      <th>170</th>\n",
       "      <td>20200313</td>\n",
       "      <td>7979</td>\n",
       "      <td>67</td>\n",
       "      <td>7470</td>\n",
       "    </tr>\n",
       "    <tr>\n",
       "      <th>171</th>\n",
       "      <td>20200312</td>\n",
       "      <td>7869</td>\n",
       "      <td>66</td>\n",
       "      <td>7407</td>\n",
       "    </tr>\n",
       "    <tr>\n",
       "      <th>172</th>\n",
       "      <td>20200311</td>\n",
       "      <td>7755</td>\n",
       "      <td>60</td>\n",
       "      <td>7212</td>\n",
       "    </tr>\n",
       "    <tr>\n",
       "      <th>173</th>\n",
       "      <td>20200310</td>\n",
       "      <td>7513</td>\n",
       "      <td>54</td>\n",
       "      <td>7165</td>\n",
       "    </tr>\n",
       "  </tbody>\n",
       "</table>\n",
       "<p>174 rows × 4 columns</p>\n",
       "</div>"
      ],
      "text/plain": [
       "          기준일   확진자수 사망자수 치료중환자수\n",
       "0    20200830  19698  323   4313\n",
       "1    20200829  19399  321   4209\n",
       "2    20200828  19076  316   3931\n",
       "3    20200827  18705  313   3584\n",
       "4    20200826  18264  312   3348\n",
       "..        ...    ...  ...    ...\n",
       "169  20200314   8086   72   7402\n",
       "170  20200313   7979   67   7470\n",
       "171  20200312   7869   66   7407\n",
       "172  20200311   7755   60   7212\n",
       "173  20200310   7513   54   7165\n",
       "\n",
       "[174 rows x 4 columns]"
      ]
     },
     "execution_count": 10,
     "metadata": {},
     "output_type": "execute_result"
    }
   ],
   "source": [
    "df = pd.DataFrame(data=df_data)\n",
    "df"
   ]
  },
  {
   "cell_type": "markdown",
   "id": "64fbcc02-72a7-44d9-a71a-78b045340ea3",
   "metadata": {},
   "source": [
    "### 한국관광공사 - 관광정보서비스 (JSON)"
   ]
  },
  {
   "cell_type": "code",
   "execution_count": 11,
   "id": "415cff6e-6a6b-4854-a6c8-13133b111858",
   "metadata": {},
   "outputs": [
    {
     "data": {
      "text/plain": [
       "'http://api.visitkorea.or.kr/openapi/service/rest/KorService/areaCode?ServiceKey=kOziccmdb8NkvACScIS0%2BTPmFFyPeQ1UwPNaOgJAVjtBMY3ewnl6TnLnoPCpNm0ZxNDZ%2FuIeWsf%2BPycQV8ie9A%3D%3D&numOfRows=10&pageNo=1&MobileOS=ETC&MobileApp=AppTest&_type=json'"
      ]
     },
     "execution_count": 11,
     "metadata": {},
     "output_type": "execute_result"
    }
   ],
   "source": [
    "pageNo = 1\n",
    "url = 'http://api.visitkorea.or.kr/openapi/service/rest/KorService/areaCode?ServiceKey={}&numOfRows=10&pageNo={}&MobileOS=ETC&MobileApp=AppTest&_type=json'.format(serviceKey, pageNo)\n",
    "url"
   ]
  },
  {
   "cell_type": "code",
   "execution_count": 12,
   "id": "f5162be8-03ee-4f44-ab8d-4cc7b179074d",
   "metadata": {},
   "outputs": [
    {
     "data": {
      "text/plain": [
       "<Response [200]>"
      ]
     },
     "execution_count": 12,
     "metadata": {},
     "output_type": "execute_result"
    }
   ],
   "source": [
    "res = requests.get(url)\n",
    "res"
   ]
  },
  {
   "cell_type": "code",
   "execution_count": 13,
   "id": "ea4ac17c-3d04-4c92-8b44-aa6989fbff06",
   "metadata": {},
   "outputs": [
    {
     "data": {
      "text/plain": [
       "'{\"response\":{\"header\":{\"resultCode\":\"0000\",\"resultMsg\":\"OK\"},\"body\":{\"items\":{\"item\":[{\"code\":1,\"name\":\"서울\",\"rnum\":1},{\"code\":2,\"name\":\"인천\",\"rnum\":2},{\"code\":3,\"name\":\"대전\",\"rnum\":3},{\"code\":4,\"name\":\"대구\",\"rnum\":4},{\"code\":5,\"name\":\"광주\",\"rnum\":5},{\"code\":6,\"name\":\"부산\",\"rnum\":6},{\"code\":7,\"name\":\"울산\",\"rnum\":7},{\"code\":8,\"name\":\"세종특별자치시\",\"rnum\":8},{\"code\":31,\"name\":\"경기도\",\"rnum\":9},{\"code\":32,\"name\":\"강원도\",\"rnum\":10}]},\"numOfRows\":10,\"pageNo\":1,\"totalCount\":17}}}'"
      ]
     },
     "execution_count": 13,
     "metadata": {},
     "output_type": "execute_result"
    }
   ],
   "source": [
    "res.text"
   ]
  },
  {
   "cell_type": "code",
   "execution_count": 14,
   "id": "fe83cc33-f9d7-4e4f-8957-f6b27040b7de",
   "metadata": {},
   "outputs": [
    {
     "data": {
      "text/plain": [
       "{'response': {'header': {'resultCode': '0000', 'resultMsg': 'OK'},\n",
       "  'body': {'items': {'item': [{'code': 1, 'name': '서울', 'rnum': 1},\n",
       "     {'code': 2, 'name': '인천', 'rnum': 2},\n",
       "     {'code': 3, 'name': '대전', 'rnum': 3},\n",
       "     {'code': 4, 'name': '대구', 'rnum': 4},\n",
       "     {'code': 5, 'name': '광주', 'rnum': 5},\n",
       "     {'code': 6, 'name': '부산', 'rnum': 6},\n",
       "     {'code': 7, 'name': '울산', 'rnum': 7},\n",
       "     {'code': 8, 'name': '세종특별자치시', 'rnum': 8},\n",
       "     {'code': 31, 'name': '경기도', 'rnum': 9},\n",
       "     {'code': 32, 'name': '강원도', 'rnum': 10}]},\n",
       "   'numOfRows': 10,\n",
       "   'pageNo': 1,\n",
       "   'totalCount': 17}}}"
      ]
     },
     "execution_count": 14,
     "metadata": {},
     "output_type": "execute_result"
    }
   ],
   "source": [
    "data = res.json()\n",
    "data"
   ]
  },
  {
   "cell_type": "code",
   "execution_count": 15,
   "id": "71af5909-1158-4670-b17f-5cd9b73459db",
   "metadata": {},
   "outputs": [
    {
     "data": {
      "text/plain": [
       "(10, 17)"
      ]
     },
     "execution_count": 15,
     "metadata": {},
     "output_type": "execute_result"
    }
   ],
   "source": [
    "numOfRows = data['response']['body']['numOfRows']\n",
    "totalCount = data['response']['body']['totalCount']\n",
    "\n",
    "numOfRows, totalCount"
   ]
  },
  {
   "cell_type": "code",
   "execution_count": 16,
   "id": "6e9094c5-dafa-4c35-a940-933bdf3b1d48",
   "metadata": {},
   "outputs": [
    {
     "data": {
      "text/plain": [
       "2"
      ]
     },
     "execution_count": 16,
     "metadata": {},
     "output_type": "execute_result"
    }
   ],
   "source": [
    "queryCount = totalCount // numOfRows\n",
    "if totalCount % numOfRows > 0:\n",
    "    queryCount += 1\n",
    "queryCount"
   ]
  },
  {
   "cell_type": "code",
   "execution_count": null,
   "id": "744eb63a-9c85-4114-94e2-6f2cfd8eabf8",
   "metadata": {},
   "outputs": [],
   "source": [
    "code = []\n",
    "name = []\n",
    "rnum = []\n",
    "\n",
    "for i in range(queryCount):  # 0~1\n",
    "    pageNo = i + 1  #1~2\n",
    "    'http://api.visitkorea.or.kr/openapi/service/rest/KorService/areaCode?ServiceKey={}&numOfRows=10&pageNo={}&MobileOS=ETC&MobileApp=AppTest&_type=json'.format(serviceKey, pageNo)\n",
    "    res = requests.get(url)\n",
    "    data = res.json()\n",
    "    \n",
    "    itmes = data['response']['body']['items']['item']\n",
    "    \n",
    "    for item in items:\n",
    "        code.append(item['code'])\n",
    "        name.append(item['name'])\n",
    "        rnum.append(item['rnum'])\n",
    "        \n",
    "name"
   ]
  },
  {
   "cell_type": "code",
   "execution_count": null,
   "id": "5dbab61d-6b0a-4396-8934-43898abcac97",
   "metadata": {},
   "outputs": [],
   "source": [
    "df_data = {\n",
    "    'code': code,\n",
    "    'name': name,\n",
    "    'rnum': rnum\n",
    "}\n",
    "\n",
    "df = pd.DataFrame(data=df_data)\n",
    "df"
   ]
  },
  {
   "cell_type": "code",
   "execution_count": null,
   "id": "d29a5594-003a-4233-87c6-c6a198f5716a",
   "metadata": {},
   "outputs": [],
   "source": []
  }
 ],
 "metadata": {
  "kernelspec": {
   "display_name": "Python 3",
   "language": "python",
   "name": "python3"
  },
  "language_info": {
   "codemirror_mode": {
    "name": "ipython",
    "version": 3
   },
   "file_extension": ".py",
   "mimetype": "text/x-python",
   "name": "python",
   "nbconvert_exporter": "python",
   "pygments_lexer": "ipython3",
   "version": "3.8.8"
  }
 },
 "nbformat": 4,
 "nbformat_minor": 5
}
